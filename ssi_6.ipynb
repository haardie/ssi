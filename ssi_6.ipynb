{
  "cells": [
    {
      "cell_type": "markdown",
      "metadata": {
        "id": "view-in-github",
        "colab_type": "text"
      },
      "source": [
        "<a href=\"https://colab.research.google.com/github/mbukacek/ssi/blob/Student_release/ssi_6.ipynb\" target=\"_parent\"><img src=\"https://colab.research.google.com/assets/colab-badge.svg\" alt=\"Open In Colab\"/></a>"
      ]
    },
    {
      "cell_type": "code",
      "source": [
        "import pandas as pd\n",
        "import numpy as np\n",
        "import math as math\n",
        "from matplotlib import pyplot as plt"
      ],
      "metadata": {
        "id": "rta4JrPw41d8"
      },
      "id": "rta4JrPw41d8",
      "execution_count": 3,
      "outputs": []
    },
    {
      "cell_type": "code",
      "source": [
        "def init_ped_data(t,x,v):\n",
        "    # initialize ped data container\n",
        "    # INPUT: vector of init time, init position and init velocity\n",
        "\n",
        "    # init dataframe with the first ped\n",
        "    ped_data = pd.DataFrame({'ped_id': 0,\n",
        "                             't': [[t[0]]],                         # to be list of recorded time\n",
        "                             'x': [[x[0]]],                         # to be list of recorded x position\n",
        "                             'v': [[v[0]]],                         # to be list of recorded x velocity\n",
        "                             }, index = [0])\n",
        "\n",
        "    # add peds one by one\n",
        "    rep = range(len(x)-1)\n",
        "    for i in rep:\n",
        "        ped_data_n = pd.DataFrame({'ped_id': i+1,\n",
        "                                't': [[t[i+1]]],\n",
        "                                'x': [[x[i+1]]],\n",
        "                                'v': [[v[i+1]]],\n",
        "                                }, index = [i+1])\n",
        "        ped_data = pd.concat([ped_data, ped_data_n])\n",
        "\n",
        "    return ped_data"
      ],
      "metadata": {
        "id": "O9nkHshM6pTU"
      },
      "id": "O9nkHshM6pTU",
      "execution_count": 4,
      "outputs": []
    },
    {
      "cell_type": "code",
      "source": [
        "def one_ped_step(ped_data, ped_idx, act_t, act_v, const):\n",
        "    # performs one step of one ped with respect to the new velocity\n",
        "\n",
        "    ped_data.at[ped_idx, 't'] = ped_data.at[ped_idx, 't'] + [act_t]             # '+' works as append\n",
        "\n",
        "    ped_data.at[ped_idx, 'v'] = ped_data.at[ped_idx, 'v'] + [act_v]\n",
        "\n",
        "    new_x = ped_data.x[ped_idx][-1] + act_v*const['dt']             # [-1] reffers to the last value\n",
        "    ped_data.at[ped_idx, 'x'] = ped_data.at[ped_idx, 'x'] + [new_x]\n",
        "\n",
        "    return ped_data"
      ],
      "metadata": {
        "id": "ku6QEv7eCdPr"
      },
      "id": "ku6QEv7eCdPr",
      "execution_count": 9,
      "outputs": []
    },
    {
      "cell_type": "code",
      "source": [
        "def get_free_stages(ped_data, ped_idx, const):\n",
        "  free_stages = list(range(ped_data.x[ped_idx][-1] + 1, const['road_length']))\n",
        "  for i in range(len(ped_data.index)):\n",
        "    if ped_data.x[i][-1] > ped_data.x[ped_idx][-1]:\n",
        "      free_stages.remove(ped_data.x[i][-1])\n",
        "  return free_stages"
      ],
      "metadata": {
        "id": "6GbL4HS68yww"
      },
      "id": "6GbL4HS68yww",
      "execution_count": 5,
      "outputs": []
    },
    {
      "cell_type": "code",
      "source": [
        "def update_v(ped_data, ped_idx, const):\n",
        "    # New velocity is calculated here according to the group\n",
        "\n",
        "    v_last = ped_data.v[ped_idx][-1]\n",
        "\n",
        "    free_stages = get_free_stages(ped_data, ped_idx, const)\n",
        "\n",
        "    if v_last < const['v_max']:\n",
        "      v = v_last + 1\n",
        "    else:\n",
        "      v = const['v_max']\n",
        "\n",
        "    while ped_data.x[ped_idx][-1] + v not in free_stages:\n",
        "      v -= 1\n",
        "\n",
        "    return v"
      ],
      "metadata": {
        "id": "5Do68nYP68Ab"
      },
      "id": "5Do68nYP68Ab",
      "execution_count": 6,
      "outputs": []
    },
    {
      "cell_type": "code",
      "source": [
        "#============================================#\n",
        "#              SCRIPT STARTS HERE            #\n",
        "#============================================#\n",
        "\n",
        "#======================#\n",
        "#     PRELIMINARIES    #\n",
        "#======================#\n",
        "\n",
        "# Constants - dictionary\n",
        "const = {'N_ped': 4,                # numer of peds in the system\n",
        "         'N_step': 10,              # number of steps\n",
        "         'dt': 1,                   # diffrential step length [s]\n",
        "         'v_max': 5,                # optimal velocity (scalar) [m/s]\n",
        "         'road_length': 50          # length of the road\n",
        "        }\n",
        "\n",
        "# Init time, positions and velocities\n",
        "t = [0, 0, 0, 0]\n",
        "x = [0, 1, 3, 5]\n",
        "v = [1, 3, 2, 1]\n",
        "\n",
        "# Init data containers\n",
        "ped_data = init_ped_data(t,x,v)"
      ],
      "metadata": {
        "id": "6rdgEuL37cnu"
      },
      "id": "6rdgEuL37cnu",
      "execution_count": 8,
      "outputs": []
    },
    {
      "cell_type": "code",
      "source": [
        "#======================#\n",
        "#         MODEL        #\n",
        "#======================#\n",
        "\n",
        "# Model loop over time\n",
        "rep = range(const['N_step'])\n",
        "for i in rep:\n",
        "\n",
        "    act_t = (i+1)*const['dt']                                       # i+1 is current itteration as i = 0  was defined in init step\n",
        "\n",
        "    # model loop over other peds\n",
        "    rep2 = range(const['N_ped'])\n",
        "    for j in rep2:\n",
        "\n",
        "        act_v = update_v(ped_data, j, const)\n",
        "        ped_data = one_ped_step(ped_data, j, act_t, act_v, const)\n",
        "\n",
        "\n",
        "\n",
        "#======================#\n",
        "#     POSTPROCESSING   #\n",
        "#======================#\n",
        "\n",
        "# Timespace fundamental diagram\n",
        "plt.figure()\n",
        "plt.plot(ped_data.t[0], ped_data.x[0], 'r-', label = 'ped 1')\n",
        "plt.plot(ped_data.t[1], ped_data.x[1], 'g-', label = 'ped 2')\n",
        "plt.plot(ped_data.t[2], ped_data.x[2], 'b-', label = 'ped 3')\n",
        "plt.plot(ped_data.t[3], ped_data.x[3], 'k-', label = 'ped 4')\n",
        "plt.title('Timespace fundamental diagram')\n",
        "plt.xlabel(r'$t \\,\\,\\mathrm{[s]}$')\n",
        "plt.ylabel(r'$x \\,\\,\\, \\mathrm{[m]}$')\n",
        "#plt.xlim(0, 10)\n",
        "#plt.ylim(0, 120)\n",
        "plt.legend()\n",
        "plt.show()"
      ],
      "metadata": {
        "id": "5hTgilXRCNH9"
      },
      "id": "5hTgilXRCNH9",
      "execution_count": null,
      "outputs": []
    }
  ],
  "metadata": {
    "colab": {
      "provenance": [],
      "gpuType": "T4",
      "include_colab_link": true
    },
    "language_info": {
      "name": "python"
    },
    "kernelspec": {
      "name": "python3",
      "display_name": "Python 3"
    },
    "accelerator": "GPU"
  },
  "nbformat": 4,
  "nbformat_minor": 5
}