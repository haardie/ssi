{
  "cells": [
    {
      "cell_type": "markdown",
      "metadata": {
        "id": "view-in-github",
        "colab_type": "text"
      },
      "source": [
        "<a href=\"https://colab.research.google.com/github/mbukacek/ssi/blob/Student_release/ssi_6.ipynb\" target=\"_parent\"><img src=\"https://colab.research.google.com/assets/colab-badge.svg\" alt=\"Open In Colab\"/></a>"
      ]
    },
    {
      "cell_type": "code",
      "source": [
        "import pandas as pd\n",
        "import numpy as np\n",
        "import math as math\n",
        "from matplotlib import pyplot as plt"
      ],
      "metadata": {
        "id": "rta4JrPw41d8"
      },
      "id": "rta4JrPw41d8",
      "execution_count": 3,
      "outputs": []
    },
    {
      "cell_type": "code",
      "source": [
        "def init_ped_data(t,x,v):\n",
        "    # initialize ped data container\n",
        "    # INPUT: vector of init time, init position and init velocity\n",
        "\n",
        "    # init dataframe with the first ped\n",
        "    ped_data = pd.DataFrame({'ped_id': 0,\n",
        "                             't': [[t[0]]],                         # to be list of recorded time\n",
        "                             'x': [[x[0]]],                         # to be list of recorded x position\n",
        "                             'v': [[v[0]]],                         # to be list of recorded x velocity\n",
        "                             }, index = [0])\n",
        "\n",
        "    # add peds one by one\n",
        "    rep = range(len(x)-1)\n",
        "    for i in rep:\n",
        "        ped_data_n = pd.DataFrame({'ped_id': i+1,\n",
        "                                't': [[t[i+1]]],\n",
        "                                'x': [[x[i+1]]],\n",
        "                                'v': [[v[i+1]]],\n",
        "                                }, index = [i+1])\n",
        "        ped_data = pd.concat([ped_data, ped_data_n])\n",
        "\n",
        "    return ped_data"
      ],
      "metadata": {
        "id": "O9nkHshM6pTU"
      },
      "id": "O9nkHshM6pTU",
      "execution_count": 4,
      "outputs": []
    },
    {
      "cell_type": "code",
      "source": [
        "def get_free_stages(ped_data, ped_idx, const):\n",
        "  free_stages = list(range(ped_data.x[ped_idx][-1] + 1, const['road_length']))\n",
        "  for i in range(len(ped_data.index)):\n",
        "    if ped_data.x[i][-1] > ped_data.x[ped_idx][-1]:\n",
        "      free_stages.remove(ped_data.x[i][-1])\n",
        "  return free_stages"
      ],
      "metadata": {
        "id": "6GbL4HS68yww"
      },
      "id": "6GbL4HS68yww",
      "execution_count": 5,
      "outputs": []
    },
    {
      "cell_type": "code",
      "source": [
        "def update_agent(ped_data, ped_idx, const):\n",
        "    # New velocity is calculated here according to the group\n",
        "\n",
        "    v_last = ped_data.v[ped_idx][-1]\n",
        "\n",
        "    free_stages = get_free_stages(ped_data, ped_idx, const)\n",
        "\n",
        "    if v_last < const['v_max']:\n",
        "      v = v_last + 1\n",
        "    if v > const['road_length'] - ped_data.x[ped_idx][-1]"
      ],
      "metadata": {
        "id": "5Do68nYP68Ab"
      },
      "id": "5Do68nYP68Ab",
      "execution_count": 4,
      "outputs": []
    },
    {
      "cell_type": "code",
      "source": [
        "#============================================#\n",
        "#              SCRIPT STARTS HERE            #\n",
        "#============================================#\n",
        "\n",
        "#======================#\n",
        "#     PRELIMINARIES    #\n",
        "#======================#\n",
        "\n",
        "# Constants - dictionary\n",
        "const = {'N_ped': 4,                # numer of peds in the system\n",
        "         'N_step': 10,              # number of steps\n",
        "         'dt': 1,                   # diffrential step length [s]\n",
        "         'v_max': 5,                # optimal velocity (scalar) [m/s]\n",
        "         'road_length': 50          # length of the road\n",
        "        }\n",
        "\n",
        "# Init time, positions and velocities\n",
        "t = [0, 0, 0, 0]\n",
        "x = [0, 1, 3, 5]\n",
        "v = [1, 3, 2, 1]\n",
        "\n",
        "# Init data containers\n",
        "ped_data = init_ped_data(t,x,y,vx,vy)"
      ],
      "metadata": {
        "id": "6rdgEuL37cnu"
      },
      "id": "6rdgEuL37cnu",
      "execution_count": null,
      "outputs": []
    }
  ],
  "metadata": {
    "colab": {
      "provenance": [],
      "include_colab_link": true
    },
    "language_info": {
      "name": "python"
    },
    "kernelspec": {
      "name": "python3",
      "display_name": "Python 3"
    }
  },
  "nbformat": 4,
  "nbformat_minor": 5
}